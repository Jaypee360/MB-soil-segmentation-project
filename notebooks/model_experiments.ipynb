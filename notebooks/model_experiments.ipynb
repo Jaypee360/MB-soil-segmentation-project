{
 "cells": [
  {
   "cell_type": "markdown",
   "metadata": {},
   "source": [
    "# Soil Viability Prediction: Model Experimentation with XGBoost and MLflow\n",
    "\n",
    "## **Objective**\n",
    "The goal of this notebook is to experiment with various configurations of the XGBoost model to predict soil viability for farming in Manitoba. The notebook will leverage MLflow to:\n",
    "- Track and log experiments, including hyperparameters, metrics, and model artifacts.\n",
    "- Facilitate reproducibility and collaboration.\n",
    "\n",
    "---\n",
    "\n",
    "## **Workflow Outline**\n",
    "1. **Setup and Configuration**:\n",
    "   - Import necessary libraries.\n",
    "   - Initialize MLflow for experiment tracking.\n",
    "2. **Data Loading and Preprocessing**:\n",
    "   - Load and process the Manitoba soil dataset using the `DataProcessor` class.\n",
    "   - Perform exploratory data analysis (EDA) if needed.\n",
    "3. **Feature Engineering**:\n",
    "   - Apply transformations to create features such as `MANCON` flags, weighted scores, and encoded classifications.\n",
    "4. **Model Experimentation**:\n",
    "   - Train XGBoost models with various hyperparameter configurations.\n",
    "   - Evaluate model performance using appropriate metrics (e.g., RMSE, accuracy).\n",
    "   - Log experiments to MLflow.\n",
    "5. **Analysis of Results**:\n",
    "   - Compare model performance across experiments.\n",
    "   - Visualize feature importance and residuals.\n",
    "6. **Model Selection**:\n",
    "   - Choose the best-performing model based on metrics logged in MLflow.\n",
    "\n",
    "---\n",
    "\n",
    "## **Tools and Technologies**\n",
    "- **XGBoost**: A gradient boosting framework for training models.\n",
    "- **MLflow**: A platform for managing machine learning experiments, including:\n",
    "  - Tracking hyperparameters and metrics.\n",
    "  - Logging models and artifacts for reproducibility.\n",
    "  - Visualizing experiment results.\n",
    "- **Pandas, NumPy**: For data manipulation and analysis.\n",
    "- **Matplotlib, Seaborn**: For data visualization.\n",
    "- **DataProcessor**: Custom class for data preprocessing and feature engineering.\n",
    "\n",
    "---\n",
    "\n",
    "## **Expected Outcomes**\n",
    "By the end of this notebook:\n",
    "- You will have a trained and evaluated XGBoost model.\n",
    "- All experiments will be tracked and logged in MLflow, enabling easy comparison and reproducibility.\n",
    "- Insights into the most influential features for predicting soil viability will be generated.\n",
    "\n",
    "---\n",
    "\n",
    "> **Note**: Before running this notebook, ensure that the MLflow tracking server is properly configured, and the necessary dependencies are installed.\n"
   ]
  },
  {
   "cell_type": "code",
   "execution_count": 1,
   "metadata": {},
   "outputs": [],
   "source": [
    "import pandas as pd\n",
    "import numpy as np\n",
    "\n",
    "# reading dataset into a pandas dataframe \n",
    "file_path = r'C:\\Users\\JP\\Documents\\Manitoba Soil Survey Data\\MB soil segmentation project\\manitoba_10_sample.csv'\n",
    "agric = pd.read_csv(file_path, low_memory=False) \n"
   ]
  },
  {
   "cell_type": "code",
   "execution_count": 3,
   "metadata": {},
   "outputs": [],
   "source": [
    "#The original dataset consists of about 100 thousand rows. We have been working with a subset of\n",
    "#10k rows out of the original dataset. The code below isolates the remaining 90k rows that were not \n",
    "#sampled from the dataset\n",
    "\n",
    "file_path_2 = r'C:\\Users\\JP\\Documents\\Manitoba Soil Survey Data\\MB soil segmentation project\\Soil_Survey_Manitoba.csv'\n",
    "total_100k_agric = pd.read_csv(file_path_2, low_memory=False)\n",
    "\n",
    "remainder_agric = total_100k_agric[~total_100k_agric['OBJECTID'].isin(agric['OBJECTID'])]\n",
    "\n",
    "remainder_agric.to_csv(\"remainder_agric.csv\", index=False)\n"
   ]
  },
  {
   "cell_type": "code",
   "execution_count": null,
   "metadata": {},
   "outputs": [],
   "source": []
  }
 ],
 "metadata": {
  "kernelspec": {
   "display_name": ".venv",
   "language": "python",
   "name": "python3"
  },
  "language_info": {
   "codemirror_mode": {
    "name": "ipython",
    "version": 3
   },
   "file_extension": ".py",
   "mimetype": "text/x-python",
   "name": "python",
   "nbconvert_exporter": "python",
   "pygments_lexer": "ipython3",
   "version": "3.12.0"
  }
 },
 "nbformat": 4,
 "nbformat_minor": 2
}
